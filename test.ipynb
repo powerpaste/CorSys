{
 "cells": [
  {
   "cell_type": "code",
   "execution_count": 1,
   "metadata": {},
   "outputs": [],
   "source": [
    "from Synthesizer import synthesize"
   ]
  },
  {
   "cell_type": "code",
   "execution_count": 2,
   "metadata": {},
   "outputs": [],
   "source": [
    "import pandas as pd\n",
    "\n",
    "DF = pd.DataFrame\n",
    "S = pd.Series\n",
    "\n",
    "\n",
    "class WrongPathError(Exception):\n",
    "    pass\n",
    "\n",
    "\n",
    "class TableManager:\n",
    "    def __init__(self, df: DF):\n",
    "        self.df = df\n",
    "    \n",
    "    def _repr_html_(self):\n",
    "        return self.df._repr_html_()\n",
    "    \n",
    "    def __getitem__(self, *args, **kwargs) -> DF | S:\n",
    "        return self.df.__getitem__(*args, **kwargs)\n",
    "    \n",
    "    @property\n",
    "    def _columns(self) -> list:\n",
    "        return self.df.columns\n",
    "    \n",
    "    def _len(self, x_axis: bool) -> int:\n",
    "        return self.df.shape[1 if x_axis else 0]\n",
    "\n",
    "    def _check_relative_index(self, index: int, x_axis: bool) -> None:\n",
    "\n",
    "        if abs(index) > self._len(x_axis) / 2:\n",
    "            raise WrongPathError(\"Index is absolute. Should use relative index.\")\n",
    "    \n",
    "    def _check_inbound_index(self, index: int, x_axis: bool) -> None:\n",
    "        total_len = self._len(x_axis)\n",
    "\n",
    "        if index >= total_len or index < -total_len:\n",
    "            raise WrongPathError(\"Index is out of bound.\")\n",
    "    \n",
    "    def _copy_modify(self, function) -> DF:\n",
    "        return TableManager(function(self.df))\n",
    "    \n",
    "    def _copy_getitem(self, key) -> DF:\n",
    "        return self._copy_modify(lambda table: table.__getitem__(key))\n",
    "    \n",
    "    def _copy_loc(self, key1, key2 = None) -> DF:\n",
    "        if key2 is None:\n",
    "            return self._copy_modify(lambda table: table.loc[key1])\n",
    "        else:\n",
    "            return self._copy_modify(lambda table: table.loc[key1, key2])\n",
    "    \n",
    "    def _to_absolute_index(self, index: int, x_axis: bool) -> int:\n",
    "        return index if index >= 0 else self._len(x_axis) + index\n",
    "    \n",
    "    def _check_valid_start_end(self, start: int, end: int, x_axis: bool) -> None:\n",
    "        start = self._to_absolute_index(start, x_axis)\n",
    "        end = self._to_absolute_index(end, x_axis)\n",
    "\n",
    "        if start >= end:\n",
    "            raise WrongPathError(\"Start index is greater than or equal to end index.\")\n",
    "        \n",
    "        self._check_inbound_index(start, x_axis)\n",
    "        self._check_inbound_index(end-1, x_axis)\n",
    "\n",
    "    def reorder(self, start: int, end: int, move: int, x_axis: bool) -> DF:\n",
    "        self._check_relative_index(start, x_axis)\n",
    "        self._check_relative_index(end, x_axis)\n",
    "        \n",
    "        self._check_valid_start_end(start, end, x_axis)\n",
    "        \n",
    "        if move == 0:\n",
    "            raise WrongPathError(\"Move is 0. Should be an effective move.\")\n",
    "        elif move > 0:\n",
    "            self._check_inbound_index(end-1+move, x_axis)\n",
    "        else:\n",
    "            self._check_inbound_index(start+move, x_axis)\n",
    "\n",
    "        return self._x_reorder(start, end, move) if x_axis else self._y_reorder(start, end, move)\n",
    "    \n",
    "    def _x_reorder(self, start: int, end: int, move: int) -> DF:\n",
    "        cols = list(self._columns)\n",
    "        cols_to_move = cols[start:end]\n",
    "        del cols[start:end]\n",
    "        for i, col in enumerate(cols_to_move):\n",
    "            cols.insert(start + move + i, col)\n",
    "        return self._copy_getitem(cols)\n",
    "    \n",
    "    def _y_reorder(self, start: int, end: int, move: int) -> DF:\n",
    "        idx = list(self.df.index)\n",
    "        idx_to_move = idx[start:end]\n",
    "        del idx[start:end]\n",
    "        for i, index in enumerate(idx_to_move):\n",
    "            idx.insert(start + move + i, index)\n",
    "        return self._copy_loc(idx)\n"
   ]
  },
  {
   "cell_type": "code",
   "execution_count": 3,
   "metadata": {},
   "outputs": [],
   "source": [
    "import pandas as pd\n",
    "import random\n",
    "import string\n",
    "\n",
    "def random_value():\n",
    "    return random.choice([random.random(), random.choice(string.ascii_letters)])\n",
    "\n",
    "df1 = pd.DataFrame([[random_value() for _ in range(5)] for _ in range(5)], columns=['A', 'B', 'C', 'D', 'E'])\n",
    "df2 = pd.DataFrame([[random_value() for _ in range(5)] for _ in range(5)], columns=['V', 'W', 'X', 'Y', 'Z'])"
   ]
  },
  {
   "cell_type": "code",
   "execution_count": 4,
   "metadata": {},
   "outputs": [],
   "source": [
    "input1 = TableManager(df1)\n",
    "input2 = TableManager(df2)"
   ]
  },
  {
   "cell_type": "code",
   "execution_count": 5,
   "metadata": {},
   "outputs": [],
   "source": [
    "output1 = input1.reorder(0, 1, -2, False).reorder(1, -1, -1, False)\n",
    "output2 = input2.reorder(0, 1, -2, False).reorder(1, -1, -1, False)"
   ]
  },
  {
   "cell_type": "code",
   "execution_count": 6,
   "metadata": {},
   "outputs": [
    {
     "data": {
      "text/html": [
       "<div>\n",
       "<style scoped>\n",
       "    .dataframe tbody tr th:only-of-type {\n",
       "        vertical-align: middle;\n",
       "    }\n",
       "\n",
       "    .dataframe tbody tr th {\n",
       "        vertical-align: top;\n",
       "    }\n",
       "\n",
       "    .dataframe thead th {\n",
       "        text-align: right;\n",
       "    }\n",
       "</style>\n",
       "<table border=\"1\" class=\"dataframe\">\n",
       "  <thead>\n",
       "    <tr style=\"text-align: right;\">\n",
       "      <th></th>\n",
       "      <th>A</th>\n",
       "      <th>B</th>\n",
       "      <th>C</th>\n",
       "      <th>D</th>\n",
       "      <th>E</th>\n",
       "    </tr>\n",
       "  </thead>\n",
       "  <tbody>\n",
       "    <tr>\n",
       "      <th>0</th>\n",
       "      <td>0.032137</td>\n",
       "      <td>U</td>\n",
       "      <td>0.617287</td>\n",
       "      <td>0.133527</td>\n",
       "      <td>0.885909</td>\n",
       "    </tr>\n",
       "    <tr>\n",
       "      <th>1</th>\n",
       "      <td>0.394776</td>\n",
       "      <td>0.305478</td>\n",
       "      <td>T</td>\n",
       "      <td>0.234029</td>\n",
       "      <td>C</td>\n",
       "    </tr>\n",
       "    <tr>\n",
       "      <th>2</th>\n",
       "      <td>b</td>\n",
       "      <td>Z</td>\n",
       "      <td>0.957231</td>\n",
       "      <td>0.955747</td>\n",
       "      <td>0.602328</td>\n",
       "    </tr>\n",
       "    <tr>\n",
       "      <th>3</th>\n",
       "      <td>0.259893</td>\n",
       "      <td>0.730682</td>\n",
       "      <td>0.115726</td>\n",
       "      <td>0.523233</td>\n",
       "      <td>0.435344</td>\n",
       "    </tr>\n",
       "    <tr>\n",
       "      <th>4</th>\n",
       "      <td>0.789845</td>\n",
       "      <td>0.994741</td>\n",
       "      <td>0.042293</td>\n",
       "      <td>u</td>\n",
       "      <td>0.659959</td>\n",
       "    </tr>\n",
       "  </tbody>\n",
       "</table>\n",
       "</div>"
      ],
      "text/plain": [
       "<__main__.TableManager at 0x21984830670>"
      ]
     },
     "execution_count": 6,
     "metadata": {},
     "output_type": "execute_result"
    }
   ],
   "source": [
    "input1"
   ]
  },
  {
   "cell_type": "code",
   "execution_count": 7,
   "metadata": {},
   "outputs": [
    {
     "data": {
      "text/html": [
       "<div>\n",
       "<style scoped>\n",
       "    .dataframe tbody tr th:only-of-type {\n",
       "        vertical-align: middle;\n",
       "    }\n",
       "\n",
       "    .dataframe tbody tr th {\n",
       "        vertical-align: top;\n",
       "    }\n",
       "\n",
       "    .dataframe thead th {\n",
       "        text-align: right;\n",
       "    }\n",
       "</style>\n",
       "<table border=\"1\" class=\"dataframe\">\n",
       "  <thead>\n",
       "    <tr style=\"text-align: right;\">\n",
       "      <th></th>\n",
       "      <th>A</th>\n",
       "      <th>B</th>\n",
       "      <th>C</th>\n",
       "      <th>D</th>\n",
       "      <th>E</th>\n",
       "    </tr>\n",
       "  </thead>\n",
       "  <tbody>\n",
       "    <tr>\n",
       "      <th>2</th>\n",
       "      <td>b</td>\n",
       "      <td>Z</td>\n",
       "      <td>0.957231</td>\n",
       "      <td>0.955747</td>\n",
       "      <td>0.602328</td>\n",
       "    </tr>\n",
       "    <tr>\n",
       "      <th>0</th>\n",
       "      <td>0.032137</td>\n",
       "      <td>U</td>\n",
       "      <td>0.617287</td>\n",
       "      <td>0.133527</td>\n",
       "      <td>0.885909</td>\n",
       "    </tr>\n",
       "    <tr>\n",
       "      <th>3</th>\n",
       "      <td>0.259893</td>\n",
       "      <td>0.730682</td>\n",
       "      <td>0.115726</td>\n",
       "      <td>0.523233</td>\n",
       "      <td>0.435344</td>\n",
       "    </tr>\n",
       "    <tr>\n",
       "      <th>1</th>\n",
       "      <td>0.394776</td>\n",
       "      <td>0.305478</td>\n",
       "      <td>T</td>\n",
       "      <td>0.234029</td>\n",
       "      <td>C</td>\n",
       "    </tr>\n",
       "    <tr>\n",
       "      <th>4</th>\n",
       "      <td>0.789845</td>\n",
       "      <td>0.994741</td>\n",
       "      <td>0.042293</td>\n",
       "      <td>u</td>\n",
       "      <td>0.659959</td>\n",
       "    </tr>\n",
       "  </tbody>\n",
       "</table>\n",
       "</div>"
      ],
      "text/plain": [
       "<__main__.TableManager at 0x21984832f20>"
      ]
     },
     "execution_count": 7,
     "metadata": {},
     "output_type": "execute_result"
    }
   ],
   "source": [
    "output1"
   ]
  },
  {
   "cell_type": "code",
   "execution_count": 12,
   "metadata": {},
   "outputs": [
    {
     "name": "stdout",
     "output_type": "stream",
     "text": [
      "The synthesizer searched 0 programs up to height #2.\n"
     ]
    }
   ],
   "source": [
    "programs = synthesize(\n",
    "    input_output_simple_list=[\n",
    "        (input1, output1),\n",
    "        (input2, output2)\n",
    "    ],\n",
    "    variable_names=['x'],\n",
    "    search_space_file='utils/grammars/TableManagerGrammar.txt',\n",
    "    metric='VectorMetric',\n",
    "    metric_parameter='cdist_hamming',\n",
    "    tactic='height',\n",
    "    max_height=2,\n",
    "    statistics=True\n",
    ")"
   ]
  },
  {
   "cell_type": "code",
   "execution_count": 3,
   "metadata": {},
   "outputs": [
    {
     "data": {
      "text/plain": [
       "['x[0:-1:None]']"
      ]
     },
     "execution_count": 3,
     "metadata": {},
     "output_type": "execute_result"
    }
   ],
   "source": [
    "programs"
   ]
  }
 ],
 "metadata": {
  "kernelspec": {
   "display_name": ".venv",
   "language": "python",
   "name": "python3"
  },
  "language_info": {
   "codemirror_mode": {
    "name": "ipython",
    "version": 3
   },
   "file_extension": ".py",
   "mimetype": "text/x-python",
   "name": "python",
   "nbconvert_exporter": "python",
   "pygments_lexer": "ipython3",
   "version": "3.10.11"
  },
  "orig_nbformat": 4
 },
 "nbformat": 4,
 "nbformat_minor": 2
}
