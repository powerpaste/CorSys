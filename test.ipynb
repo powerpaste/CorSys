{
 "cells": [
  {
   "cell_type": "code",
   "execution_count": 1,
   "metadata": {},
   "outputs": [],
   "source": [
    "import ast\n",
    "from functools import partial\n",
    "from pathlib import Path\n",
    "\n",
    "from src.io.InputOutputPairReader import InputOutputPairReader\n",
    "from src.io.SearchSpaceReader import SearchSpaceReader\n",
    "from src.io.MetricReader import MetricReader\n",
    "\n",
    "from src.synthesizer.BestEffortProgramGenerator import BestEffortProgramGenerator\n",
    "\n",
    "\n",
    "def synthesize(input_output_file: str, search_space_file: str,\n",
    "               metric: str = 'DefaultMetric', metric_parameter: str = '',\n",
    "               tactic: str = 'match', tactic_parameter: str = '0',\n",
    "               max_height: int = 2, statistics: bool = False):\n",
    "    \"\"\"\n",
    "    Run the synthesizer based on the given parameters.\n",
    "\n",
    "    :param input_output_file: the root for the input-output file\n",
    "    :param search_space_file: the root for the search space file\n",
    "    :param metric: the metric for the synthesizer (default = 'DefaultMetric')\n",
    "    :param metric_parameter: the parameter for the metric\n",
    "    :param tactic: the tactic for the synthesizer (default = 'height')\n",
    "    :param tactic_parameter: the parameter for the tactic\n",
    "    :param max_height: the max height for the synthesizer to search (default = 2)\n",
    "    :param statistics: whether to present statistics\n",
    "    :return: None\n",
    "    \"\"\"\n",
    "    input_output_file = Path(input_output_file)\n",
    "    search_space_file = Path(search_space_file)\n",
    "    \n",
    "    input_output_pairs = InputOutputPairReader.readCSV(input_output_file)\n",
    "    search_space = SearchSpaceReader.readTXT(search_space_file)\n",
    "    metric = MetricReader.parseMetric(metric, metric_parameter)\n",
    "    generator = BestEffortProgramGenerator(search_space, max_height)\n",
    "\n",
    "    if tactic == 'match':\n",
    "        generation_function = partial(generator.findBestEffortMatchProgram,\n",
    "                                      error_sum=eval(tactic_parameter))\n",
    "    elif tactic == 'accuracy':\n",
    "        generation_function = partial(generator.findBestEffortAccuracyProgram,\n",
    "                                      error_rate=eval(tactic_parameter))\n",
    "    elif tactic == 'height':\n",
    "        generation_function = partial(generator.findBestEffortByHeightProgram)\n",
    "    elif tactic == 'top':\n",
    "        generation_function = partial(generator.findBestEffortPrograms,\n",
    "                                      programs=eval(tactic_parameter))\n",
    "    elif tactic == 'best_by_height':\n",
    "        generation_function = partial(generator.findBestEffortByHeightPrograms)\n",
    "    elif tactic == 'penalized_height':\n",
    "        generation_function = partial(generator.findBestEffortPrioritizingHeightProgram,\n",
    "                                      penalty=eval(tactic_parameter))\n",
    "    elif tactic == 'interrupt':\n",
    "        generation_function = partial(generator.findBestEffortUntilInterruptProgram)\n",
    "    else:\n",
    "        assert False\n",
    "\n",
    "    inputs = input_output_pairs.inputs\n",
    "    outputs = input_output_pairs.outputs\n",
    "    result = generation_function(inputs, outputs, metric=metric)\n",
    "    if not isinstance(result, list):\n",
    "        result = [result]\n",
    "    \n",
    "    programs = []\n",
    "    \n",
    "    for program in result:\n",
    "        if program is None:\n",
    "            print('No valid program was found.')\n",
    "        else:\n",
    "            programs.append(ast.unparse(program.node))\n",
    "\n",
    "    if statistics:\n",
    "        print(f'The synthesizer searched {generator.program_counter} programs '\n",
    "                        f'up to height #{generator.current_height}.')\n",
    "    \n",
    "    return programs\n"
   ]
  },
  {
   "cell_type": "code",
   "execution_count": 2,
   "metadata": {},
   "outputs": [
    {
     "name": "stdout",
     "output_type": "stream",
     "text": [
      "No valid program was found.\n",
      "The synthesizer searched 87348 programs up to height #2.\n"
     ]
    }
   ],
   "source": [
    "programs = synthesize(\n",
    "    input_output_file='utils/examples/ListExamples.csv',\n",
    "    search_space_file='utils/grammars/ListGrammar.txt',\n",
    "    max_height=2,\n",
    "    statistics=True\n",
    ")"
   ]
  },
  {
   "cell_type": "code",
   "execution_count": 7,
   "metadata": {},
   "outputs": [
    {
     "data": {
      "text/plain": [
       "['x[0:-1:None]']"
      ]
     },
     "execution_count": 7,
     "metadata": {},
     "output_type": "execute_result"
    }
   ],
   "source": [
    "programs"
   ]
  },
  {
   "cell_type": "markdown",
   "metadata": {},
   "source": []
  }
 ],
 "metadata": {
  "kernelspec": {
   "display_name": ".venv",
   "language": "python",
   "name": "python3"
  },
  "language_info": {
   "codemirror_mode": {
    "name": "ipython",
    "version": 3
   },
   "file_extension": ".py",
   "mimetype": "text/x-python",
   "name": "python",
   "nbconvert_exporter": "python",
   "pygments_lexer": "ipython3",
   "version": "3.10.11"
  },
  "orig_nbformat": 4
 },
 "nbformat": 4,
 "nbformat_minor": 2
}
